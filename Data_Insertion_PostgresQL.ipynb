{
 "cells": [
  {
   "cell_type": "code",
   "execution_count": null,
   "id": "a6c971f1",
   "metadata": {},
   "outputs": [],
   "source": [
    "import psycopg2"
   ]
  },
  {
   "cell_type": "code",
   "execution_count": null,
   "id": "33ab9d72",
   "metadata": {},
   "outputs": [],
   "source": [
    "conn = psycopg2.connect(user=\"postgres1\", password = \"pass#111\",host = \"mydb-1.c7cwkme4c32f.us-east-2.rds.amazonaws.com\", port = \"5433\", database=\"initial_db\")"
   ]
  },
  {
   "cell_type": "code",
   "execution_count": null,
   "id": "56277917",
   "metadata": {},
   "outputs": [],
   "source": [
    "conn"
   ]
  },
  {
   "cell_type": "code",
   "execution_count": null,
   "id": "a622aa58",
   "metadata": {},
   "outputs": [],
   "source": [
    "cursor = conn.cursor() "
   ]
  },
  {
   "cell_type": "code",
   "execution_count": null,
   "id": "37ad94a3",
   "metadata": {},
   "outputs": [],
   "source": [
    "import datetime"
   ]
  },
  {
   "cell_type": "code",
   "execution_count": null,
   "id": "3f402969",
   "metadata": {},
   "outputs": [],
   "source": [
    "import psycopg2\n",
    "import csv\n",
    "\n",
    "# Replace these variables with your RDS endpoint, username, and password\n",
    "rds_endpoint = 'mydb-1.c7cwkme4c32f.us-east-2.rds.amazonaws.com'\n",
    "db_username = 'postgres1'\n",
    "db_password = 'pass#111'\n",
    "\n",
    "# Function to insert data from CSV into the database\n",
    "def insert_data_from_csv(filename, table_name):\n",
    "    try:\n",
    "        # Establish a connection to the database\n",
    "        conn = psycopg2.connect(\n",
    "            dbname='initial_db',\n",
    "            user=db_username,\n",
    "            password=db_password,\n",
    "            host=rds_endpoint,\n",
    "            port='5433'  # Default PostgreSQL port\n",
    "        )\n",
    "        print(\"Connected to the database successfully!\")\n",
    "\n",
    "        # Create a cursor\n",
    "        cur = conn.cursor()\n",
    "        \n",
    "        filepath = \"/Users/nikitabedekar/Downloads/user_data2.csv\"\n",
    "\n",
    "        # Open the CSV file and iterate over its rows to insert into the database\n",
    "        with open(filepath, 'r', encoding='utf-8' , errors='ignore') as csvfile:\n",
    "            csv_reader = csv.reader(csvfile)\n",
    "            next(csv_reader)  # Skip header row if it exists\n",
    "            for row in csv_reader:\n",
    "                row = [None if value == \"\" else value for value in row]\n",
    "                #row[15] = datetime.strptime(row[15], \"%H:%M:%S\").time()\n",
    "                # Assuming the CSV file columns match the database table columns\n",
    "                query = f\"INSERT INTO {table_name} VALUES (%s, %s, %s,%s, %s, %s,%s, %s, %s,%s, %s, %s,%s, %s, %s, %s,%s,%s, %s, %s, %s);\"  # Modify as needed\n",
    "                cur.execute(query, row)\n",
    "        \n",
    "        # Commit the transaction and close the cursor and connection\n",
    "        conn.commit()\n",
    "        print(\"Data inserted successfully!\")\n",
    "\n",
    "        cur.close()\n",
    "        conn.close()\n",
    "\n",
    "    except psycopg2.Error as e:\n",
    "        print(\"Error connecting to the database:\", e)\n",
    "\n",
    "# Call the function to insert data from CSV\n",
    "insert_data_from_csv('user_data2.csv', 'user_data1')"
   ]
  },
  {
   "cell_type": "code",
   "execution_count": null,
   "id": "473750cd",
   "metadata": {},
   "outputs": [],
   "source": []
  }
 ],
 "metadata": {
  "kernelspec": {
   "display_name": "Python 3 (ipykernel)",
   "language": "python",
   "name": "python3"
  },
  "language_info": {
   "codemirror_mode": {
    "name": "ipython",
    "version": 3
   },
   "file_extension": ".py",
   "mimetype": "text/x-python",
   "name": "python",
   "nbconvert_exporter": "python",
   "pygments_lexer": "ipython3",
   "version": "3.11.5"
  }
 },
 "nbformat": 4,
 "nbformat_minor": 5
}
